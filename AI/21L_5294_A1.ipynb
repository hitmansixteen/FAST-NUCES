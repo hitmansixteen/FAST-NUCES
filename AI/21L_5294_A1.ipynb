{
  "nbformat": 4,
  "nbformat_minor": 0,
  "metadata": {
    "colab": {
      "provenance": []
    },
    "kernelspec": {
      "name": "python3",
      "display_name": "Python 3"
    },
    "language_info": {
      "name": "python"
    }
  },
  "cells": [
    {
      "cell_type": "markdown",
      "source": [
        "# **Question 1:** 4x4 tic-tac-toe"
      ],
      "metadata": {
        "id": "Pt7jygdoyIYz"
      }
    },
    {
      "cell_type": "code",
      "execution_count": null,
      "metadata": {
        "colab": {
          "base_uri": "https://localhost:8080/"
        },
        "id": "Dc-7vYqGx_kt",
        "outputId": "c44c78e4-1356-4119-fd08-b4a9cd26733e"
      },
      "outputs": [
        {
          "output_type": "stream",
          "name": "stdout",
          "text": [
            "Hello\n",
            "- | - | - | - | \n",
            "---------------\n",
            "- | - | - | - | \n",
            "---------------\n",
            "- | - | - | - | \n",
            "---------------\n",
            "- | - | - | - | \n",
            "---------------\n",
            "Player X, enter row (1-4): 1\n",
            "Player X, enter column (1-4): 1\n",
            "X | - | - | - | \n",
            "---------------\n",
            "- | - | - | - | \n",
            "---------------\n",
            "- | - | - | - | \n",
            "---------------\n",
            "- | - | - | - | \n",
            "---------------\n",
            "Player O, enter row (1-4): 2\n",
            "Player O, enter column (1-4): 2\n",
            "X | - | - | - | \n",
            "---------------\n",
            "- | O | - | - | \n",
            "---------------\n",
            "- | - | - | - | \n",
            "---------------\n",
            "- | - | - | - | \n",
            "---------------\n",
            "Player X, enter row (1-4): 2\n",
            "Player X, enter column (1-4): 1\n",
            "X | - | - | - | \n",
            "---------------\n",
            "X | O | - | - | \n",
            "---------------\n",
            "- | - | - | - | \n",
            "---------------\n",
            "- | - | - | - | \n",
            "---------------\n",
            "Player O, enter row (1-4): 3\n",
            "Player O, enter column (1-4): 3\n",
            "X | - | - | - | \n",
            "---------------\n",
            "X | O | - | - | \n",
            "---------------\n",
            "- | - | O | - | \n",
            "---------------\n",
            "- | - | - | - | \n",
            "---------------\n",
            "Player X, enter row (1-4): 3\n",
            "Player X, enter column (1-4): 1\n",
            "X | - | - | - | \n",
            "---------------\n",
            "X | O | - | - | \n",
            "---------------\n",
            "X | - | O | - | \n",
            "---------------\n",
            "- | - | - | - | \n",
            "---------------\n",
            "Player O, enter row (1-4): 4\n",
            "Player O, enter column (1-4): 4\n",
            "X | - | - | - | \n",
            "---------------\n",
            "X | O | - | - | \n",
            "---------------\n",
            "X | - | O | - | \n",
            "---------------\n",
            "- | - | - | O | \n",
            "---------------\n",
            "Player X, enter row (1-4): 4\n",
            "Player X, enter column (1-4): 1\n",
            "X | - | - | - | \n",
            "---------------\n",
            "X | O | - | - | \n",
            "---------------\n",
            "X | - | O | - | \n",
            "---------------\n",
            "X | - | - | O | \n",
            "---------------\n",
            "Player X wins\n"
          ]
        }
      ],
      "source": [
        "def printBoard(board):\n",
        "  for i in range(4):\n",
        "    for j in range(4):\n",
        "      print(f\"{board[i][j]} | \",end=\"\")\n",
        "    print(\"\")\n",
        "    print(\"---------------\")\n",
        "\n",
        "def checkWinner(board):\n",
        "\n",
        "  # check rows\n",
        "  for row in board:\n",
        "    if len(set(row)) == 1 and row[0] != '-':\n",
        "      return row[0]\n",
        "\n",
        "  #check col\n",
        "  for col in range(4):\n",
        "    temp = set([board[row][col] for row in range(4)])\n",
        "    if len(temp)==1 and board[0][col]!= '-':\n",
        "      return board[0][col]\n",
        "\n",
        "  #check diagnols\n",
        "  temp = set([board[i][i] for i in range(4)])\n",
        "  if len(temp)==1 and board[0][0] != '-':\n",
        "    return board[0][0]\n",
        "\n",
        "  temp = set([board[i][3-i] for i in range(4)])\n",
        "  if len(temp)==1 and board[0][3] != '-':\n",
        "    return board[0][3]\n",
        "\n",
        "  #no winner\n",
        "  return None\n",
        "\n",
        "\n",
        "def isBoardFull(board):\n",
        "  for i in range(4):\n",
        "    for j in range(4):\n",
        "      if board[i][j] == '-':\n",
        "        return False\n",
        "    return True\n",
        "\n",
        "def ticTacToe():\n",
        "  print(\"Hello\")\n",
        "  board = [['-','-','-','-'],\n",
        "           ['-','-','-','-'],\n",
        "           ['-','-','-','-'],\n",
        "           ['-','-','-','-']]\n",
        "  currentPlayer = 'X'\n",
        "\n",
        "  while True:\n",
        "    printBoard(board)\n",
        "    row = int(input(f\"Player {currentPlayer}, enter row (1-4): \"))-1\n",
        "    col = int(input(f\"Player {currentPlayer}, enter column (1-4): \"))-1\n",
        "\n",
        "    if board[row][col] == '-':\n",
        "      board[row][col] = currentPlayer\n",
        "      winner = checkWinner(board)\n",
        "\n",
        "      if winner:\n",
        "        printBoard(board)\n",
        "        print(f\"Player {winner} wins\")\n",
        "        break\n",
        "      elif isBoardFull(board):\n",
        "        printBoard(board)\n",
        "        print(\"It's a tie\")\n",
        "        break\n",
        "      else:\n",
        "        if currentPlayer == 'X':\n",
        "          currentPlayer='O'\n",
        "        else:\n",
        "          currentPlayer='X'\n",
        "    else:\n",
        "      print(\"That position is already taken. Try again.\")\n",
        "\n",
        "\n",
        "\n",
        "ticTacToe()\n",
        "\n"
      ]
    },
    {
      "cell_type": "markdown",
      "source": [
        "# **Question 2:** Occurence of words in one file"
      ],
      "metadata": {
        "id": "GHQN_lhiyYoT"
      }
    },
    {
      "cell_type": "code",
      "source": [
        "import string\n",
        "def countWords(filename):\n",
        "  wordCounts = {}\n",
        "  try:\n",
        "    with open(filename,'r') as file:\n",
        "      for line in file:\n",
        "        words = line.lower().strip().split()\n",
        "        for word in words:\n",
        "          word = word.strip(string.punctuation)\n",
        "          if word:\n",
        "            wordCounts[word]=wordCounts.get(word,0)+1\n",
        "  except FileNotFoundError:\n",
        "    print(f\"Error: File '{filename}' not found.\")\n",
        "  except IOError:\n",
        "    print(f\"Error: Unable to open file '{filename}'.\")\n",
        "  return wordCounts\n",
        "\n",
        "def printSortedWordCounts(wordCounts,ascending):\n",
        "  sortedWordCounts = sorted(wordCounts.items(), key=lambda x: x[1], reverse=not ascending)\n",
        "  for word, count in sortedWordCounts:\n",
        "        print(f\"{word}: {count}\")\n",
        "\n",
        "\n",
        "filename = input(\"Enter filename: \")\n",
        "filename = f\"/content/{filename}\"\n",
        "\n",
        "wordCounts = countWords(filename)\n",
        "while wordCounts:\n",
        "  order = input(\"Enter 'asc' for ascending order or desc for descending order: \")\n",
        "  if order.lower() == 'asc':\n",
        "    print(\"Words sorted in ascending order of occurences: \")\n",
        "    printSortedWordCounts(wordCounts,True)\n",
        "    break\n",
        "  elif order.lower() == 'desc':\n",
        "    print(\"Words sorted in desceding order of occurences: \")\n",
        "    printSortedWordCounts(wordCounts,False)\n",
        "    break\n",
        "  else:\n",
        "    print(\"Invalid input. Please enter 'asc' or 'desc'.\")"
      ],
      "metadata": {
        "colab": {
          "base_uri": "https://localhost:8080/"
        },
        "id": "uFrH_LEJyu8t",
        "outputId": "62cc7930-e930-4bf9-a6ea-60dc57361a6f"
      },
      "execution_count": null,
      "outputs": [
        {
          "output_type": "stream",
          "name": "stdout",
          "text": [
            "Enter filename: input.txt\n",
            "Enter 'asc' for ascending order or desc for descending order: asc\n",
            "Words sorted in ascending order of occurences: \n",
            "quick: 1\n",
            "brown: 1\n",
            "jumps: 1\n",
            "over: 1\n",
            "lazy: 1\n",
            "barks: 1\n",
            "at: 1\n",
            "fox: 2\n",
            "dog: 2\n",
            "the: 4\n"
          ]
        }
      ]
    },
    {
      "cell_type": "markdown",
      "source": [
        "# **Question 3:** Occurence of words in multiple file"
      ],
      "metadata": {
        "id": "4ZoAOpuvyvrk"
      }
    },
    {
      "cell_type": "code",
      "source": [
        "def countWordsInFiles(filenames):\n",
        "  wordCounts={}\n",
        "  fileIndices={}\n",
        "\n",
        "  for i, filename in enumerate(filenames,1):\n",
        "    try:\n",
        "      with open(filename,'r') as file:\n",
        "        fileIndices[i] = filename\n",
        "        for line in file:\n",
        "          words = line.lower().strip().split()\n",
        "          for word in words:\n",
        "            word = word.strip(string.punctuation)\n",
        "            if word:\n",
        "              if word not in wordCounts:\n",
        "                wordCounts[word] = [0]* len(filenames)\n",
        "              wordCounts[word][i-1]+=1\n",
        "    except FileNotFoundError:\n",
        "      print(f\"Error: File '{filename}' not found.\")\n",
        "    except IOError:\n",
        "      print(f\"Error: Unable to open file '{filename}'.\")\n",
        "\n",
        "  return wordCounts,fileIndices\n",
        "\n",
        "def displayWordOccurences(wordCounts,fileIndices):\n",
        "  for word, counts in wordCounts.items():\n",
        "    occurences = []\n",
        "    for i, count in enumerate(counts):\n",
        "      if count>0:\n",
        "        occurences.append((i+1,count))\n",
        "    if occurences:\n",
        "      print(f\"{word}: \",end=\"\")\n",
        "      print(\", \".join([f\"({index},{count})\" for index, count in occurences]))\n",
        "\n",
        "\n",
        "\n",
        "\n",
        "noOfFiles = int(input(\"Enter the number of files: \"))\n",
        "filenames = []\n",
        "for i in range(noOfFiles):\n",
        "  filename = input(\"Enter Filename: \")\n",
        "  filename = f\"/content/{filename}\"\n",
        "  filenames.append(filename)\n",
        "wordCounts, fileIndices = countWordsInFiles(filenames)\n",
        "displayWordOccurences(wordCounts, fileIndices)"
      ],
      "metadata": {
        "colab": {
          "base_uri": "https://localhost:8080/"
        },
        "id": "fRtGXxSZy63-",
        "outputId": "b22f5007-6e53-40c9-eafc-9c3100608cb4"
      },
      "execution_count": null,
      "outputs": [
        {
          "output_type": "stream",
          "name": "stdout",
          "text": [
            "Enter the number of files: 3\n",
            "Enter Filename: i5.txt\n",
            "Enter Filename: i1.txt\n",
            "Enter Filename: i2.txt\n",
            "Error: File '/content/i5.txt' not found.\n",
            "apple: (2,3), (3,1)\n",
            "banana: (2,3), (3,2)\n",
            "orange: (2,1), (3,6)\n"
          ]
        }
      ]
    },
    {
      "cell_type": "markdown",
      "source": [
        "# **Question 4:**"
      ],
      "metadata": {
        "id": "ThwUpKRTy7nT"
      }
    },
    {
      "cell_type": "markdown",
      "source": [
        "# **BFS**"
      ],
      "metadata": {
        "id": "aKrNn79AzPGX"
      }
    },
    {
      "cell_type": "code",
      "source": [
        "def bfs(graph,start):\n",
        "  visited = set()\n",
        "  queue =[start]\n",
        "\n",
        "  while queue:\n",
        "    vertex = queue.pop(0)\n",
        "    if vertex not in visited:\n",
        "      print(vertex,end=\" \")\n",
        "      visited.add(vertex)\n",
        "      for neighbour in graph[vertex]:\n",
        "        if neighbour not in visited:\n",
        "          queue.append(neighbour)\n",
        "\n",
        "graph = {\n",
        "    'A': {'B', 'C'},\n",
        "    'B': {'A', 'D', 'E'},\n",
        "    'C': {'A', 'F'},\n",
        "    'D': {'B'},\n",
        "    'E': {'B', 'F'},\n",
        "    'F': {'C', 'E'}\n",
        "}\n",
        "\n",
        "start = 'A'\n",
        "\n",
        "print(f\"BFS traversal starting from vertex {start}:\")\n",
        "bfs(graph, start)"
      ],
      "metadata": {
        "colab": {
          "base_uri": "https://localhost:8080/"
        },
        "id": "EEBZfjUCzVWY",
        "outputId": "ba95283c-da62-478d-ef2a-611e53a33861"
      },
      "execution_count": null,
      "outputs": [
        {
          "output_type": "stream",
          "name": "stdout",
          "text": [
            "BFS traversal starting from vertex A:\n",
            "A B C E D F "
          ]
        }
      ]
    },
    {
      "cell_type": "markdown",
      "source": [
        "# **DFS**"
      ],
      "metadata": {
        "id": "i2xSrv5OzVte"
      }
    },
    {
      "cell_type": "code",
      "source": [
        "def explore(graph,vertex,visited):\n",
        "  visited.add(vertex)\n",
        "  print(vertex,end=\" \")\n",
        "  for neighbour in graph[vertex]:\n",
        "    if neighbour not in visited:\n",
        "      explore(graph, neighbour, visited)\n",
        "\n",
        "def dfs(graph,start):\n",
        "  visited = set()\n",
        "  explore(graph, start, visited)\n",
        "\n",
        "graph = {\n",
        "    'A': {'B', 'C'},\n",
        "    'B': {'A', 'D', 'E'},\n",
        "    'C': {'A', 'F'},\n",
        "    'D': {'B'},\n",
        "    'E': {'B', 'F'},\n",
        "    'F': {'C', 'E'}\n",
        "}\n",
        "\n",
        "start = 'A'\n",
        "\n",
        "print(f\"DFS traversal starting from vertex {start}:\")\n",
        "dfs(graph, start)\n"
      ],
      "metadata": {
        "colab": {
          "base_uri": "https://localhost:8080/"
        },
        "id": "7yJYLfVmzZ_o",
        "outputId": "d298d559-9d56-458b-d5d9-532dda3bb676"
      },
      "execution_count": null,
      "outputs": [
        {
          "output_type": "stream",
          "name": "stdout",
          "text": [
            "DFS traversal starting from vertex A:\n",
            "A B E F C D "
          ]
        }
      ]
    },
    {
      "cell_type": "markdown",
      "source": [
        "# **IDS**"
      ],
      "metadata": {
        "id": "KNafY6Ozzawa"
      }
    },
    {
      "cell_type": "code",
      "source": [
        "def explore(graph, vertex, depth, visited):\n",
        "  visited.add(vertex)\n",
        "  print(vertex,end=\" \")\n",
        "  if depth == 0:\n",
        "    return\n",
        "  for neighbour in graph[vertex]:\n",
        "    if neighbour not in visited:\n",
        "      explore(graph,neighbour,depth-1,visited)\n",
        "\n",
        "def dfs(graph,start,depth):\n",
        "  visited = set()\n",
        "  explore(graph,start,depth,visited)\n",
        "\n",
        "def ids(graph, start, maxDepth):\n",
        "  for depth in range(maxDepth):\n",
        "    print(f\"DFS traversal with maximum depth {depth + 1}:\")\n",
        "    dfs(graph,start,depth+1)\n",
        "    print(\"\")\n",
        "\n",
        "graph = {\n",
        "    'A': {'B', 'C'},\n",
        "    'B': {'A', 'D', 'E'},\n",
        "    'C': {'A', 'F'},\n",
        "    'D': {'B'},\n",
        "    'E': {'B', 'F'},\n",
        "    'F': {'C', 'E'}\n",
        "}\n",
        "\n",
        "\n",
        "start = 'A'\n",
        "maxDepth = 4\n",
        "\n",
        "# Perform IDS traversal\n",
        "ids(graph, start, maxDepth)"
      ],
      "metadata": {
        "colab": {
          "base_uri": "https://localhost:8080/"
        },
        "id": "wWu5ZDyXzfEZ",
        "outputId": "b4fce343-0dd8-41ff-98f6-11a6aae6ee5c"
      },
      "execution_count": null,
      "outputs": [
        {
          "output_type": "stream",
          "name": "stdout",
          "text": [
            "DFS traversal with maximum depth 1:\n",
            "A B C \n",
            "DFS traversal with maximum depth 2:\n",
            "A B E D C F \n",
            "DFS traversal with maximum depth 3:\n",
            "A B E F D C \n",
            "DFS traversal with maximum depth 4:\n",
            "A B E F C D \n"
          ]
        }
      ]
    },
    {
      "cell_type": "markdown",
      "source": [
        "# **Question 5:** 6 functions"
      ],
      "metadata": {
        "id": "Qjz_aI2Nzf2I"
      }
    },
    {
      "cell_type": "code",
      "source": [
        "def add(x,y):\n",
        "  return x+y\n",
        "def subtract(x,y):\n",
        "  return x-y\n",
        "def multiply(x,y):\n",
        "  try:\n",
        "    return x*y\n",
        "  except Exception as e:\n",
        "   print(\"Error:\", e)\n",
        "def divide(x,y):\n",
        "  if y!=0:\n",
        "    return x/y\n",
        "  else:\n",
        "    return \"Error: Division by zero\"\n",
        "def exponentiate(x,y):\n",
        "  try:\n",
        "    return x**y\n",
        "  except Exception as e:\n",
        "   print(\"Error:\", e)\n",
        "def modulus(x,y):\n",
        "  try:\n",
        "    return x%y\n",
        "  except Exception as e:\n",
        "   print(\"Error:\", e)\n",
        "\n",
        "def isFloat(x):\n",
        "  try:\n",
        "    float(x)\n",
        "    return True\n",
        "  except ValueError:\n",
        "    return False\n",
        "\n",
        "print(\"Select operation:\")\n",
        "print(\"1. Add\")\n",
        "print(\"2. Subtract\")\n",
        "print(\"3. Multiply\")\n",
        "print(\"4. Divide\")\n",
        "print(\"5. Exponentiate\")\n",
        "print(\"6. Modulus\")\n",
        "\n",
        "choice = input(\"Enter choice (1/2/3/4/5/6): \")\n",
        "while choice not in ['1','2','3','4','5','6',\"-1\"]:\n",
        "  choice = input(\"Enter choice (1/2/3/4/5/6): \")\n",
        "\n",
        "while choice in ['1','2','3','4','5','6',\"-1\"]:\n",
        "  if choice == \"-1\":\n",
        "    break\n",
        "  num1 = input(\"Enter first number: \")\n",
        "  num2 = input(\"Enter second number: \")\n",
        "\n",
        "  if isFloat(num1) and isFloat(num2):\n",
        "      num1 = float(num1)\n",
        "      num2 = float(num2)\n",
        "\n",
        "      if choice == '1':\n",
        "          print(\"Result:\", add(num1, num2))\n",
        "      elif choice == '2':\n",
        "          print(\"Result:\", subtract(num1, num2))\n",
        "      elif choice == '3':\n",
        "          print(\"Result:\", multiply(num1, num2))\n",
        "      elif choice == '4':\n",
        "          print(\"Result:\", divide(num1, num2))\n",
        "      elif choice == '5':\n",
        "          print(\"Result:\", exponentiate(num1, num2))\n",
        "      elif choice == '6':\n",
        "          print(\"Result:\", modulus(num1, num2))\n",
        "  else:\n",
        "      print(\"Invalid input! Please enter numeric values.\")\n",
        "  print(\"Select operation:\")\n",
        "  print(\"1. Add\")\n",
        "  print(\"2. Subtract\")\n",
        "  print(\"3. Multiply\")\n",
        "  print(\"4. Divide\")\n",
        "  print(\"5. Exponentiate\")\n",
        "  print(\"6. Modulus\")\n",
        "\n",
        "  choice = input(\"Enter choice (1/2/3/4/5/6): \")\n",
        "  while choice not in ['1','2','3','4','5','6',\"-1\"]:\n",
        "    choice = input(\"Enter choice (1/2/3/4/5/6): \")\n",
        "  if choice == \"-1\":\n",
        "    break\n"
      ],
      "metadata": {
        "id": "Lr7pW9GPzmyx",
        "colab": {
          "base_uri": "https://localhost:8080/"
        },
        "outputId": "f9c91e08-a754-4206-d43a-60793ac2e91d"
      },
      "execution_count": null,
      "outputs": [
        {
          "name": "stdout",
          "output_type": "stream",
          "text": [
            "Select operation:\n",
            "1. Add\n",
            "2. Subtract\n",
            "3. Multiply\n",
            "4. Divide\n",
            "5. Exponentiate\n",
            "6. Modulus\n",
            "Enter choice (1/2/3/4/5/6): 6\n",
            "Enter first number: 56\n",
            "Enter second number: 0\n",
            "Error: float modulo\n",
            "Result: None\n",
            "Select operation:\n",
            "1. Add\n",
            "2. Subtract\n",
            "3. Multiply\n",
            "4. Divide\n",
            "5. Exponentiate\n",
            "6. Modulus\n",
            "Enter choice (1/2/3/4/5/6): 1\n",
            "Enter first number: 23\n",
            "Enter second number: 43\n",
            "Result: 66.0\n",
            "Select operation:\n",
            "1. Add\n",
            "2. Subtract\n",
            "3. Multiply\n",
            "4. Divide\n",
            "5. Exponentiate\n",
            "6. Modulus\n",
            "Enter choice (1/2/3/4/5/6): -1\n"
          ]
        }
      ]
    },
    {
      "cell_type": "markdown",
      "source": [
        "# **Question 6:** Password Generator"
      ],
      "metadata": {
        "id": "c4B1_SBzznWa"
      }
    },
    {
      "cell_type": "code",
      "source": [
        "import random\n",
        "import string\n",
        "\n",
        "def generatePasswords(noOfPasswords,length,excludedChars):\n",
        "  passwords = []\n",
        "  chars = ''.join([c for c in string.printable.strip() if c not in excludedChars])\n",
        "  for i in range(noOfPasswords):\n",
        "    password = ''.join(random.choice(chars) for j in range(length))\n",
        "    passwords.append(password)\n",
        "  return passwords\n",
        "\n",
        "\n",
        "noOfPasswords = int(input(\"Enter the number of passwords to generate: \"))\n",
        "length = int(input(\"Enter the length of each password: \"))\n",
        "while length<=0:\n",
        "  length = int(input(\"Length can not be <=0. Enter again!: \"))\n",
        "excludedChars = input(\"Enter characters to exclude (if any): \")\n",
        "\n",
        "passwords = generatePasswords(noOfPasswords,length,excludedChars)\n",
        "print(\"\\nGenerated Passwords:\")\n",
        "for i, password in enumerate(passwords,1):\n",
        "  print(f\"{i}. {password}\")"
      ],
      "metadata": {
        "colab": {
          "base_uri": "https://localhost:8080/"
        },
        "id": "aNziDXUtzvOs",
        "outputId": "d3117bd8-41ff-4c57-9b7e-e70c9dc8d31c"
      },
      "execution_count": null,
      "outputs": [
        {
          "output_type": "stream",
          "name": "stdout",
          "text": [
            "Enter the number of passwords to generate: 5\n",
            "Enter the length of each password: 8\n",
            "Enter characters to exclude (if any): dsfarhj5657'A;X.{\n",
            "\n",
            "Generated Passwords:\n",
            "1. OBtE:gC]\n",
            "2. Yzc<#b(\"\n",
            "3. 9z*-B+QI\n",
            "4. FQ%>WiCD\n",
            "5. @9CTb0!W\n"
          ]
        }
      ]
    },
    {
      "cell_type": "markdown",
      "source": [
        "# **Question 7:** A* Search"
      ],
      "metadata": {
        "id": "RiRiYTl6zvyj"
      }
    },
    {
      "cell_type": "code",
      "source": [
        "import heapq\n",
        "\n",
        "romaniaMap = {\n",
        "    'Arad': {'Zerind': 75, 'Sibiu': 140, 'Timisoara': 118},\n",
        "    'Zerind': {'Arad': 75, 'Oradea': 71},\n",
        "    'Oradea': {'Zerind': 71, 'Sibiu': 151},\n",
        "    'Sibiu': {'Arad': 140, 'Oradea': 151, 'Fagaras': 99, 'Rimnicu Vilcea': 80},\n",
        "    'Timisoara': {'Arad': 118, 'Lugoj': 111},\n",
        "    'Lugoj': {'Timisoara': 111, 'Mehadia': 70},\n",
        "    'Mehadia': {'Lugoj': 70, 'Drobeta': 75},\n",
        "    'Drobeta': {'Mehadia': 75, 'Craiova': 120},\n",
        "    'Craiova': {'Drobeta': 120, 'Rimnicu Vilcea': 146, 'Pitesti': 138},\n",
        "    'Rimnicu Vilcea': {'Sibiu': 80, 'Craiova': 146, 'Pitesti': 97},\n",
        "    'Fagaras': {'Sibiu': 99, 'Bucharest': 211},\n",
        "    'Pitesti': {'Rimnicu Vilcea': 97, 'Craiova': 138, 'Bucharest': 101},\n",
        "    'Bucharest': {'Fagaras': 211, 'Pitesti': 101, 'Giurgiu': 90, 'Urziceni': 85},\n",
        "    'Giurgiu': {'Bucharest': 90},\n",
        "    'Urziceni': {'Bucharest': 85, 'Hirsova': 98, 'Vaslui': 142},\n",
        "    'Hirsova': {'Urziceni': 98, 'Eforie': 86},\n",
        "    'Eforie': {'Hirsova': 86},\n",
        "    'Vaslui': {'Urziceni': 142, 'Iasi': 92},\n",
        "    'Iasi': {'Vaslui': 92, 'Neamt': 87},\n",
        "    'Neamt': {'Iasi': 87}\n",
        "}\n",
        "\n",
        "distancesToBucharest = {\n",
        "  'Arad': 366, 'Zerind': 374, 'Oradea': 380, 'Sibiu': 253, 'Timisoara': 329,\n",
        "  'Lugoj': 244, 'Mehadia': 241, 'Drobeta': 242, 'Craiova': 160, 'Rimnicu Vilcea': 193,\n",
        "  'Fagaras': 178, 'Pitesti': 98, 'Bucharest': 0, 'Giurgiu': 77, 'Urziceni': 80,\n",
        "  'Hirsova': 151, 'Eforie': 161, 'Vaslui': 199, 'Iasi': 226, 'Neamt': 234\n",
        "}\n",
        "\n",
        "def aStarSearch(graph, start, goal, heuristic):\n",
        "    frontier = [(0, start)]\n",
        "    cameFrom = {}\n",
        "    costSoFar = {start: 0}\n",
        "\n",
        "    while frontier:\n",
        "      currentCost, currentNode = heapq.heappop(frontier)\n",
        "\n",
        "      if currentNode == goal:\n",
        "        break\n",
        "\n",
        "      for neighbour, weight in graph[currentNode].items():\n",
        "        newCost = costSoFar[currentNode] + weight\n",
        "        if neighbour not in costSoFar or newCost < costSoFar[neighbour]:\n",
        "          costSoFar[neighbour] = newCost\n",
        "          priority = newCost + heuristic[neighbour]\n",
        "          heapq.heappush(frontier, (priority, neighbour))\n",
        "          cameFrom[neighbour] = currentNode\n",
        "\n",
        "    path = []\n",
        "    current = goal\n",
        "    while current != start:\n",
        "        path.append(current)\n",
        "        current = cameFrom[current]\n",
        "    path.append(start)\n",
        "    path.reverse()\n",
        "\n",
        "    return path\n",
        "\n",
        "\n",
        "\n",
        "\n",
        "start = 'Arad'\n",
        "goal = 'Bucharest'\n",
        "\n",
        "path = aStarSearch(romaniaMap,start,goal,distancesToBucharest)\n",
        "print(f\"Path from {start} to Bucharest: {path}\")\n",
        "\n",
        "\n",
        "\n"
      ],
      "metadata": {
        "id": "XLXqkG-Wz4Dt",
        "colab": {
          "base_uri": "https://localhost:8080/"
        },
        "outputId": "6125e928-e312-41df-cf11-8c5154154876"
      },
      "execution_count": 8,
      "outputs": [
        {
          "output_type": "stream",
          "name": "stdout",
          "text": [
            "Path from Arad to Bucharest: ['Arad', 'Sibiu', 'Rimnicu Vilcea', 'Pitesti', 'Bucharest']\n"
          ]
        }
      ]
    }
  ]
}