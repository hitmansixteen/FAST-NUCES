{
 "cells": [
  {
   "cell_type": "code",
   "execution_count": 2,
   "metadata": {},
   "outputs": [
    {
     "name": "stdout",
     "output_type": "stream",
     "text": [
      "3\n"
     ]
    }
   ],
   "source": [
    "def pattern_count(text: str, pattern: str) -> int:\n",
    "    count =0\n",
    "    m = len(pattern)\n",
    "    n = len(text)\n",
    "    if m == 0 or m > n:\n",
    "        return 0\n",
    "    for i in range(n-m+1):\n",
    "        if text[i:i+m] == pattern:\n",
    "            count += 1\n",
    "    return count\n",
    "count = pattern_count(\"ACGTACGTACGT\", \"CG\")\n",
    "print(count)\n"
   ]
  },
  {
   "cell_type": "code",
   "execution_count": 3,
   "metadata": {},
   "outputs": [
    {
     "name": "stdout",
     "output_type": "stream",
     "text": [
      "['TTTT']\n"
     ]
    }
   ],
   "source": [
    "def frequent_words(text: str, k: int) -> list[str]:\n",
    "    if k<= 0 or k > len(text):\n",
    "        return []\n",
    "    kmer_counts = {}\n",
    "    n = len(text)\n",
    "    max_count = 0\n",
    "\n",
    "    for i in range(n-k+1):\n",
    "        kmer = text[i:i+k]\n",
    "        if kmer in kmer_counts:\n",
    "            kmer_counts[kmer] += 1\n",
    "        else:\n",
    "            kmer_counts[kmer] = 1\n",
    "        \n",
    "        if kmer_counts[kmer] > max_count:\n",
    "            max_count = kmer_counts[kmer]\n",
    "\n",
    "    return [kmer for kmer,count in kmer_counts.items() if count == max_count]\n",
    "\n",
    "print(frequent_words(\"CGTTTTGAACATTTTCAACAAGTTTTGCAACATTTT\", 4))\n"
   ]
  },
  {
   "cell_type": "code",
   "execution_count": 5,
   "metadata": {},
   "outputs": [
    {
     "name": "stdout",
     "output_type": "stream",
     "text": [
      "[2, 6]\n"
     ]
    }
   ],
   "source": [
    "def minimum_skew(genome: str) -> list[int]:\n",
    "    skew = [0]\n",
    "    current_skew = 0\n",
    "\n",
    "    for char in genome:\n",
    "        if char == 'C':\n",
    "            current_skew -= 1\n",
    "        elif char == 'G':\n",
    "            current_skew += 1\n",
    "        skew.append(current_skew)\n",
    "    min_skew = min(skew)\n",
    "    return [i for i, val in enumerate(skew) if val == min_skew]\n",
    "\n",
    "print(minimum_skew(\"CCGGCCGG\"))"
   ]
  },
  {
   "cell_type": "code",
   "execution_count": 8,
   "metadata": {},
   "outputs": [
    {
     "name": "stdout",
     "output_type": "stream",
     "text": [
      "['ATGC', 'ATGT', 'GATG']\n"
     ]
    }
   ],
   "source": [
    "def frequent_words_with_mismatches(text: str, k: int, d: int) -> list[str]:\n",
    "    from collections import defaultdict\n",
    "    from itertools import combinations, product\n",
    "\n",
    "    def generate_neighbors(kmer: str, d: int) -> set[str]:\n",
    "        neighbors = set()\n",
    "        k = len(kmer)\n",
    "        for i in range(d + 1):\n",
    "            if i == 0:\n",
    "                neighbors.add(kmer)\n",
    "                continue\n",
    "            for positions in combinations(range(k), i):\n",
    "                substitutions = []\n",
    "                for pos in positions:\n",
    "                    original = kmer[pos]\n",
    "                    possible = [nt for nt in ['A', 'C', 'G', 'T'] if nt != original]\n",
    "                    substitutions.append(possible)\n",
    "                for subs in product(*substitutions):\n",
    "                    new_kmer = list(kmer)\n",
    "                    for idx, pos in enumerate(positions):\n",
    "                        new_kmer[pos] = subs[idx]\n",
    "                    neighbors.add(''.join(new_kmer))\n",
    "        return neighbors\n",
    "\n",
    "    freq = defaultdict(int)\n",
    "    n = len(text)\n",
    "    for i in range(n - k + 1):\n",
    "        kmer = text[i:i+k]\n",
    "        neighbors = generate_neighbors(kmer, d)\n",
    "        for neighbor in neighbors:\n",
    "            freq[neighbor] += 1\n",
    "\n",
    "    max_freq = max(freq.values(), default=0)\n",
    "    result = [kmer for kmer, count in freq.items() if count == max_freq]\n",
    "    result.sort()\n",
    "    return result\n",
    "\n",
    "print(frequent_words_with_mismatches(\"ACGTTGCATGTCGCATGATGCATGAGAGCT\", 4, 1))"
   ]
  },
  {
   "cell_type": "code",
   "execution_count": null,
   "metadata": {},
   "outputs": [],
   "source": []
  }
 ],
 "metadata": {
  "kernelspec": {
   "display_name": "Python 3",
   "language": "python",
   "name": "python3"
  },
  "language_info": {
   "codemirror_mode": {
    "name": "ipython",
    "version": 3
   },
   "file_extension": ".py",
   "mimetype": "text/x-python",
   "name": "python",
   "nbconvert_exporter": "python",
   "pygments_lexer": "ipython3",
   "version": "3.13.1"
  }
 },
 "nbformat": 4,
 "nbformat_minor": 2
}
