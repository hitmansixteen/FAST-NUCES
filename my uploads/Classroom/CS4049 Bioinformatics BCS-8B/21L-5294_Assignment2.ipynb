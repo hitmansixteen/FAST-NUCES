{
 "cells": [
  {
   "cell_type": "code",
   "execution_count": null,
   "metadata": {},
   "outputs": [
    {
     "name": "stdout",
     "output_type": "stream",
     "text": [
      "ACG\n"
     ]
    }
   ],
   "source": [
    "from itertools import product\n",
    "\n",
    "def hamming_distance(str1: str, str2: str) -> int:\n",
    "    \n",
    "    return sum(1 for a, b in zip(str1, str2) if a != b)\n",
    "\n",
    "def d(pattern: str, dna: list[str]) -> int:\n",
    "    \n",
    "    k = len(pattern)\n",
    "    total_distance = 0\n",
    "    \n",
    "    for seq in dna:\n",
    "        min_dist = float('inf')\n",
    "        for i in range(len(seq) - k + 1):\n",
    "            kmer = seq[i:i+k]\n",
    "            min_dist = min(min_dist, hamming_distance(pattern, kmer))\n",
    "        total_distance += min_dist\n",
    "    \n",
    "    return total_distance\n",
    "\n",
    "def median_string(dna: list[str], k: int) -> str:\n",
    "    \n",
    "    best_pattern = None\n",
    "    min_distance = float('inf')\n",
    "    \n",
    "    \n",
    "    for pattern in (\"\".join(p) for p in product(\"ACGT\", repeat=k)):\n",
    "        distance = d(pattern, dna)\n",
    "        if distance < min_distance:\n",
    "            min_distance = distance\n",
    "            best_pattern = pattern\n",
    "    \n",
    "    return best_pattern\n",
    "\n",
    "\n",
    "dna_strings = [\n",
    "    \"AAATTGACGCAT\", \"GACGACCACGTT\", \"CGTCAGCGCCTG\",\n",
    "    \"GCTGAGCACCGG\", \"AGTACGGGACAG\"\n",
    "]\n",
    "k = 3\n",
    "\n",
    "# Sample Output\n",
    "print(median_string(dna_strings, k))  \n"
   ]
  },
  {
   "cell_type": "code",
   "execution_count": 2,
   "metadata": {},
   "outputs": [
    {
     "name": "stdout",
     "output_type": "stream",
     "text": [
      "CAG CAG CAA CAA CAA\n"
     ]
    }
   ],
   "source": [
    "from collections import Counter\n",
    "\n",
    "def compute_profile(motifs, k, t):\n",
    "    profile = {\"A\": [0] * k, \"C\": [0] * k, \"G\": [0] * k, \"T\": [0] * k}\n",
    "    \n",
    "    for i in range(k):\n",
    "        column = [motif[i] for motif in motifs]\n",
    "        counts = Counter(column)\n",
    "        for nucleotide in \"ACGT\":\n",
    "            profile[nucleotide][i] = counts.get(nucleotide, 0) / t\n",
    "    \n",
    "    return profile\n",
    "\n",
    "def most_probable_kmer(text, k, profile):\n",
    "    max_prob = -1\n",
    "    best_kmer = text[:k]\n",
    "    \n",
    "    for i in range(len(text) - k + 1):\n",
    "        kmer = text[i:i+k]\n",
    "        prob = 1\n",
    "        for j, nucleotide in enumerate(kmer):\n",
    "            prob *= profile[nucleotide][j]\n",
    "        \n",
    "        if prob > max_prob:\n",
    "            max_prob = prob\n",
    "            best_kmer = kmer\n",
    "    \n",
    "    return best_kmer\n",
    "\n",
    "def score(motifs, k):\n",
    "    consensus = \"\"\n",
    "    for i in range(k):\n",
    "        column = [motif[i] for motif in motifs]\n",
    "        most_common = Counter(column).most_common(1)[0][0]\n",
    "        consensus += most_common\n",
    "    \n",
    "    return sum(1 for motif in motifs for i in range(k) if motif[i] != consensus[i])\n",
    "\n",
    "def greedy_motif_search(dna, k, t):\n",
    "    best_motifs = [seq[:k] for seq in dna]\n",
    "    \n",
    "    for i in range(len(dna[0]) - k + 1):\n",
    "        motifs = [dna[0][i:i+k]]\n",
    "        \n",
    "        for j in range(1, t):\n",
    "            profile = compute_profile(motifs, k, len(motifs))\n",
    "            next_motif = most_probable_kmer(dna[j], k, profile)\n",
    "            motifs.append(next_motif)\n",
    "        \n",
    "        if score(motifs, k) < score(best_motifs, k):\n",
    "            best_motifs = motifs\n",
    "    \n",
    "    return best_motifs\n",
    "\n",
    "\n",
    "k, t = 3, 5\n",
    "dna = [\"GGCGTTCAGGCA\", \"AAGAATCAGTCA\", \"CAAGGAGTTCGC\", \"CACGTCAATCAC\", \"CAATAATATTCG\"]\n",
    "\n",
    "\n",
    "best_motifs = greedy_motif_search(dna, k, t)\n",
    "print(\" \".join(best_motifs))\n"
   ]
  },
  {
   "cell_type": "code",
   "execution_count": null,
   "metadata": {},
   "outputs": [],
   "source": []
  }
 ],
 "metadata": {
  "kernelspec": {
   "display_name": "Python 3",
   "language": "python",
   "name": "python3"
  },
  "language_info": {
   "codemirror_mode": {
    "name": "ipython",
    "version": 3
   },
   "file_extension": ".py",
   "mimetype": "text/x-python",
   "name": "python",
   "nbconvert_exporter": "python",
   "pygments_lexer": "ipython3",
   "version": "3.13.1"
  }
 },
 "nbformat": 4,
 "nbformat_minor": 2
}
