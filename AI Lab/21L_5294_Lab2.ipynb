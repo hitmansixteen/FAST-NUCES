{
  "nbformat": 4,
  "nbformat_minor": 0,
  "metadata": {
    "colab": {
      "provenance": []
    },
    "kernelspec": {
      "name": "python3",
      "display_name": "Python 3"
    },
    "language_info": {
      "name": "python"
    }
  },
  "cells": [
    {
      "cell_type": "markdown",
      "source": [
        "6.1 Nested List (10 marks)"
      ],
      "metadata": {
        "id": "lLB0d5pSFq9z"
      }
    },
    {
      "cell_type": "code",
      "execution_count": 4,
      "metadata": {
        "colab": {
          "base_uri": "https://localhost:8080/"
        },
        "id": "5B1o0tHBFaBR",
        "outputId": "20cf6be6-aa6c-480e-bc0d-6a963e7c012e"
      },
      "outputs": [
        {
          "output_type": "stream",
          "name": "stdout",
          "text": [
            "z\n"
          ]
        }
      ],
      "source": [
        "x = [10, [3.141, 20, [30, 'baz', 2.718]], 'foo']\n",
        "print(x[1][2][1][2])"
      ]
    },
    {
      "cell_type": "markdown",
      "source": [
        "6.2 Count Distinct Elements (10 marks)"
      ],
      "metadata": {
        "id": "0WATvUZjG6Qb"
      }
    },
    {
      "cell_type": "code",
      "source": [
        "def func(arr):\n",
        "  count = 0\n",
        "  for i in range(len(arr)):\n",
        "    check = 1\n",
        "    for j in range(i):\n",
        "      if arr[i] == arr[j]:\n",
        "        check=0\n",
        "    if check:\n",
        "      count+=1\n",
        "  print(count)\n",
        "\n",
        "arr = [1, 2, 2, 3, 4, 2]\n",
        "func(arr)\n"
      ],
      "metadata": {
        "colab": {
          "base_uri": "https://localhost:8080/"
        },
        "id": "flVvawfsF6PM",
        "outputId": "bca05b5c-4aec-454f-aa44-8177960b8a88"
      },
      "execution_count": 7,
      "outputs": [
        {
          "output_type": "stream",
          "name": "stdout",
          "text": [
            "4\n"
          ]
        }
      ]
    },
    {
      "cell_type": "markdown",
      "source": [
        "6.3 Unique values in a dictionary (10 marks)"
      ],
      "metadata": {
        "id": "FbMt3_ddJ8O9"
      }
    },
    {
      "cell_type": "code",
      "source": [
        "def func(x):\n",
        "  s = []\n",
        "  for i in x.keys():\n",
        "    if x[i] not in s:\n",
        "      s.append(x[i])\n",
        "  for i in s:\n",
        "    print(i)\n",
        "\n",
        "x = {\n",
        "    \"1\":1,\n",
        "    \"2\":2,\n",
        "    \"3\":3,\n",
        "    \"1\":1,\n",
        "    \"2\":2\n",
        "}\n",
        "func(x)"
      ],
      "metadata": {
        "colab": {
          "base_uri": "https://localhost:8080/"
        },
        "id": "g8_E2_e6J_8l",
        "outputId": "91eb8cac-31c5-44e1-8243-69ceb101891c"
      },
      "execution_count": 12,
      "outputs": [
        {
          "output_type": "stream",
          "name": "stdout",
          "text": [
            "1\n",
            "2\n",
            "3\n"
          ]
        }
      ]
    },
    {
      "cell_type": "markdown",
      "source": [
        "6.4 Combine dictionaries (10 marks)"
      ],
      "metadata": {
        "id": "SDBWpVJoNxnp"
      }
    },
    {
      "cell_type": "code",
      "source": [
        "def func(d1,d2):\n",
        "  d3 = {}\n",
        "  for i in d1.keys():\n",
        "    d3[i] = d1[i]\n",
        "  for i in d2.keys():\n",
        "    if i not in d3.keys():\n",
        "      d3[i] = d2[i]\n",
        "  print(d3)\n",
        "d1 = {\"a\":1,\"b\":2,\"c\":3}\n",
        "d2 = {\"b\":1,\"c\":2,\"d\":3}\n",
        "\n",
        "func(d1,d2)\n"
      ],
      "metadata": {
        "colab": {
          "base_uri": "https://localhost:8080/"
        },
        "id": "CL2FEhrnN1Co",
        "outputId": "1ae96551-70a4-4326-a717-241540801f6a"
      },
      "execution_count": 14,
      "outputs": [
        {
          "output_type": "stream",
          "name": "stdout",
          "text": [
            "{'a': 1, 'b': 2, 'c': 3, 'd': 3}\n"
          ]
        }
      ]
    },
    {
      "cell_type": "markdown",
      "source": [
        "6.5 DFS or BFS? (10 marks)\n",
        "Answer: Since the graph has loops i would use BFS"
      ],
      "metadata": {
        "id": "y-iHkDvVQFVf"
      }
    },
    {
      "cell_type": "code",
      "source": [
        "from collections import defaultdict\n",
        "class Graph:\n",
        "  def __init__(self):\n",
        "   self.graph = defaultdict(list)\n",
        "  def addEdge(self, u, v):\n",
        "        self.graph[u].append(v)\n",
        "  def BFS(self, s):\n",
        "        visited = [False] * (max(self.graph) + 1)\n",
        "        queue = []\n",
        "        queue.append(s)\n",
        "        visited[s] = True\n",
        "        while queue:\n",
        "            s = queue.pop(0)\n",
        "            print(s, end=\" \")\n",
        "            for i in self.graph[s]:\n",
        "                if visited[i] == False:\n",
        "                    queue.append(i)\n",
        "                    visited[i] = True\n",
        "\n",
        "\n",
        "g = Graph()\n",
        "g.addEdge(0, 1)\n",
        "g.addEdge(0, 2)\n",
        "g.addEdge(1, 2)\n",
        "g.addEdge(2, 0)\n",
        "g.addEdge(2, 3)\n",
        "g.addEdge(3, 3)\n",
        "g.BFS(2)\n"
      ],
      "metadata": {
        "colab": {
          "base_uri": "https://localhost:8080/"
        },
        "id": "npPbWsXIQIzm",
        "outputId": "59f1ae28-84f5-4835-c1d9-384cfe18e796"
      },
      "execution_count": 23,
      "outputs": [
        {
          "output_type": "stream",
          "name": "stdout",
          "text": [
            "2 0 3 1 "
          ]
        }
      ]
    },
    {
      "cell_type": "markdown",
      "source": [
        "6.6 Cube Finder (50 marks)"
      ],
      "metadata": {
        "id": "S3qOhh1AVWvy"
      }
    },
    {
      "cell_type": "code",
      "source": [
        "fp = open(\"/content/sample_data/input.txt\",\"r\")\n",
        "content = fp.read()\n",
        "fp.close()\n",
        "print(content)\n",
        "s = content.split('\\n')\n",
        "cube=[]\n",
        "for i in s:\n",
        "  temp = []\n",
        "  for j in range(len(i)):\n",
        "    if i[j] != ' ':\n",
        "      temp.append(i[j])\n",
        "  cube.append(temp)\n",
        "\n",
        "\n",
        "print(cube)\n",
        "\n",
        "def BFS():\n",
        "  visited = []\n",
        "  visited.append((0,0))\n",
        "  queue = []\n",
        "  queue.append((0,0))\n",
        "  rowN =[-1,-1,-1,0,0,1,1,1]\n",
        "  colN = [-1,0,1,-1,1,-1,0,1]\n",
        "  path = []\n",
        "\n",
        "  row = len(cube)\n",
        "  col = len(cube[0])\n",
        "\n",
        "  g = (row-1,col-1)\n",
        "\n",
        "  for i in range(row):\n",
        "    tempC = []\n",
        "    for j in range(col):\n",
        "      tempC.append((0,0))\n",
        "    path.append(tempC)\n",
        "\n",
        "  while len(queue):\n",
        "    temp = queue.pop(0)\n",
        "\n",
        "    if temp != g:\n",
        "      for i in rowN:\n",
        "        for j in colN:\n",
        "          x,\n",
        "          if (i,j) not in visited and cube[i][j]:\n",
        "            visited.append((i,j))\n",
        "            queue.append((i,j))\n",
        "            path[i][j] = (i,j)\n",
        "    else:\n",
        "      break\n",
        "  return path\n",
        "\n",
        "def pathPrint(path):\n",
        "  row = len(path)\n",
        "  col = len(path[0])\n",
        "\n",
        "\n",
        "\n",
        "\n",
        "\n"
      ],
      "metadata": {
        "colab": {
          "base_uri": "https://localhost:8080/"
        },
        "id": "21U_QeugVYOC",
        "outputId": "2f69e128-9e2d-4c3c-8a96-ab14298e950f"
      },
      "execution_count": 29,
      "outputs": [
        {
          "output_type": "stream",
          "name": "stdout",
          "text": [
            "S 0 0 0 1 0 0\n",
            "1 1 0 0 0 1 1\n",
            "0 1 0 1 0 0 0\n",
            "1 1 0 1 1 0 1\n",
            "0 1 0 1 0 0 0\n",
            "0 1 1 1 0 1 1\n",
            "0 0 0 0 0 0 G\n",
            "[['S', '0', '0', '0', '1', '0', '0'], ['1', '1', '0', '0', '0', '1', '1'], ['0', '1', '0', '1', '0', '0', '0'], ['1', '1', '0', '1', '1', '0', '1'], ['0', '1', '0', '1', '0', '0', '0'], ['0', '1', '1', '1', '0', '1', '1'], ['0', '0', '0', '0', '0', '0', 'G']]\n"
          ]
        }
      ]
    }
  ]
}