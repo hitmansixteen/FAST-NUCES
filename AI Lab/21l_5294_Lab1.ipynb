{
  "nbformat": 4,
  "nbformat_minor": 0,
  "metadata": {
    "colab": {
      "provenance": []
    },
    "kernelspec": {
      "name": "python3",
      "display_name": "Python 3"
    },
    "language_info": {
      "name": "python"
    }
  },
  "cells": [
    {
      "cell_type": "markdown",
      "source": [
        "**Activity 1**"
      ],
      "metadata": {
        "id": "dRQ1aqlPDcVE"
      }
    },
    {
      "cell_type": "code",
      "source": [
        "\n",
        "def pattern(size):\n",
        "  for i in range(-size,size+1):\n",
        "    for j in range(-size,size+1):\n",
        "      if i == -size or i == size or j == -size or j == size:\n",
        "        print('#',end='')\n",
        "      elif i >= abs(j):\n",
        "        print('*',end='')\n",
        "      elif abs(i) >= abs(j):\n",
        "        print('*',end='')\n",
        "      else:\n",
        "        print(' ',end='')\n",
        "    print('')\n",
        "\n",
        "size = int(input('Enter Size: '))\n",
        "pattern(size)\n",
        "\n",
        "\n",
        "\n",
        "\n"
      ],
      "metadata": {
        "colab": {
          "base_uri": "https://localhost:8080/"
        },
        "id": "vlqx4e63Df8t",
        "outputId": "efa27de0-d08a-40e1-e369-1a8f2852e824"
      },
      "execution_count": 21,
      "outputs": [
        {
          "output_type": "stream",
          "name": "stdout",
          "text": [
            "Enter Size: 6\n",
            "#############\n",
            "#***********#\n",
            "# ********* #\n",
            "#  *******  #\n",
            "#   *****   #\n",
            "#    ***    #\n",
            "#     *     #\n",
            "#    ***    #\n",
            "#   *****   #\n",
            "#  *******  #\n",
            "# ********* #\n",
            "#***********#\n",
            "#############\n"
          ]
        }
      ]
    },
    {
      "cell_type": "markdown",
      "source": [
        "**Activity 2**"
      ],
      "metadata": {
        "id": "qFNkx5CMNpEr"
      }
    },
    {
      "cell_type": "code",
      "source": [
        "def dictionary():\n",
        "  square = {}\n",
        "  for i in range(10):\n",
        "    val = input('enter value between 1 and 10:')\n",
        "    if int(val) >=1 and int(val)<=10:\n",
        "      num = int(val)\n",
        "      square[val]=num*num\n",
        "  print(square)\n",
        "\n",
        "dictionary()\n"
      ],
      "metadata": {
        "colab": {
          "base_uri": "https://localhost:8080/"
        },
        "id": "_gY6mlVzNsAs",
        "outputId": "34de3706-7537-4dd9-b24b-fbc43257835e"
      },
      "execution_count": 22,
      "outputs": [
        {
          "output_type": "stream",
          "name": "stdout",
          "text": [
            "enter value between 1 and 104\n",
            "enter value between 1 and 1067\n",
            "enter value between 1 and 108\n",
            "enter value between 1 and 107\n",
            "enter value between 1 and 106\n",
            "{'4': 16, '8': 64, '7': 49, '6': 36}\n"
          ]
        }
      ]
    },
    {
      "cell_type": "markdown",
      "source": [
        "**Activity 3**"
      ],
      "metadata": {
        "id": "WiAXqaQTQvUK"
      }
    },
    {
      "cell_type": "code",
      "source": [
        "students= {}\n",
        "def addStudent(name,score):\n",
        "  students[name]=score\n",
        "def printMinAndMax():\n",
        "  print(max(students,key=students.get),end=' ')\n",
        "  print(max(students.values()))\n",
        "  print(min(students,key=students.get),end=' ')\n",
        "  print(min(students.values()))\n",
        "\n",
        "\n",
        "addStudent('Laraib',56)\n",
        "addStudent('Qasim',66)\n",
        "addStudent('Abdullah',76)\n",
        "addStudent('Ahmad',86)\n",
        "printMinAndMax()\n",
        "print(students)\n",
        "\n",
        "\n",
        "\n",
        "\n"
      ],
      "metadata": {
        "colab": {
          "base_uri": "https://localhost:8080/"
        },
        "id": "eXolddgKQ7u-",
        "outputId": "e4ce6a15-5334-46cd-ab88-bba862340946"
      },
      "execution_count": 23,
      "outputs": [
        {
          "output_type": "stream",
          "name": "stdout",
          "text": [
            "Ahmad 86\n",
            "Laraib 56\n",
            "{'Laraib': 56, 'Qasim': 66, 'Abdullah': 76, 'Ahmad': 86}\n"
          ]
        }
      ]
    },
    {
      "cell_type": "markdown",
      "source": [
        "**Activity 4**"
      ],
      "metadata": {
        "id": "aieUV1igUlsE"
      }
    },
    {
      "cell_type": "code",
      "source": [
        "def func():\n",
        "  string=input('Enter Digits. Press Enter to end:\\n')\n",
        "  print('Digit\\tFrequency\\tBarGraph')\n",
        "  for i in range(0,10):\n",
        "    print(i,end='')\n",
        "    print(':\\t',end='')\n",
        "    count = string.count(chr(i+48))\n",
        "    print(count,end='\\t\\t')\n",
        "    for i in range(0,count):\n",
        "      print('*',end='')\n",
        "    print('')\n",
        "\n",
        "func()"
      ],
      "metadata": {
        "colab": {
          "base_uri": "https://localhost:8080/"
        },
        "id": "WD78CRmWUrKs",
        "outputId": "51e99343-869d-4c7d-aa10-6e0cd872766a"
      },
      "execution_count": 25,
      "outputs": [
        {
          "output_type": "stream",
          "name": "stdout",
          "text": [
            "Enter Digits. Press Enter to end:\n",
            "324634745867487689kb346784\n",
            "Digit\tFrequency\tBarGraph\n",
            "0:\t0\t\t\n",
            "1:\t0\t\t\n",
            "2:\t1\t\t*\n",
            "3:\t3\t\t***\n",
            "4:\t6\t\t******\n",
            "5:\t1\t\t*\n",
            "6:\t4\t\t****\n",
            "7:\t4\t\t****\n",
            "8:\t4\t\t****\n",
            "9:\t1\t\t*\n"
          ]
        }
      ]
    },
    {
      "cell_type": "markdown",
      "source": [
        "**Activity 5**"
      ],
      "metadata": {
        "id": "lVgeNl4CYfz_"
      }
    },
    {
      "cell_type": "code",
      "source": [
        "patients={}\n",
        "def viewAllPatients():\n",
        "  print(patients)\n",
        "\n",
        "def addPatient():\n",
        "  print('adding patient')\n",
        "  id = input('Enter patient ID: ')\n",
        "  if patients.get(id):\n",
        "    print('Patient already exists')\n",
        "  else:\n",
        "    name = input('Enter patient name: ')\n",
        "    gender = input('Enter gender: ')\n",
        "    contact = input('Enter contact: ')\n",
        "    patients[id]= [name,gender,contact]\n",
        "  viewAllPatients()\n",
        "\n",
        "def updatePatient():\n",
        "  print('updating patient')\n",
        "  id = input('Enter patient ID: ')\n",
        "  name = input('Enter patient name: ')\n",
        "  gender = input('Enter gender: ')\n",
        "  contact = input('Enter contact: ')\n",
        "  patients[id]= [name,gender,contact]\n",
        "  viewAllPatients()\n",
        "\n",
        "def removePatient():\n",
        "  print('deleting patient')\n",
        "  id = input('Enter patient ID: ')\n",
        "  del patients[id]\n",
        "  viewAllPatients()\n",
        "\n",
        "addPatient()\n",
        "addPatient()\n",
        "addPatient()\n",
        "addPatient()\n",
        "\n",
        "updatePatient()\n",
        "\n",
        "removePatient()\n",
        "\n",
        "\n",
        "\n",
        "\n",
        "\n"
      ],
      "metadata": {
        "colab": {
          "base_uri": "https://localhost:8080/"
        },
        "id": "dNoErnjkYirv",
        "outputId": "2b3b6e14-0d0c-47c3-b708-72d8000328bc"
      },
      "execution_count": 27,
      "outputs": [
        {
          "output_type": "stream",
          "name": "stdout",
          "text": [
            "Enter patient ID: 2\n",
            "Enter patient name: laraib\n",
            "Enter gender: male\n",
            "Enter contact: 03150100830\n",
            "{'2': ['laraib', 'male', '03150100830']}\n",
            "Enter patient ID: 2\n",
            "Patient already exists\n",
            "{'2': ['laraib', 'male', '03150100830']}\n",
            "Enter patient ID: 3\n",
            "Enter patient name: qasim\n",
            "Enter gender: male\n",
            "Enter contact: 03240000\n",
            "{'2': ['laraib', 'male', '03150100830'], '3': ['qasim', 'male', '03240000']}\n",
            "Enter patient ID: 4\n",
            "Enter patient name: abdul\n",
            "Enter gender: female\n",
            "Enter contact: 0324555555\n",
            "{'2': ['laraib', 'male', '03150100830'], '3': ['qasim', 'male', '03240000'], '4': ['abdul', 'female', '0324555555']}\n",
            "Enter patient ID: 2\n",
            "Enter patient name: ahmad\n",
            "Enter gender: male\n",
            "Enter contact: 000000\n",
            "{'2': ['ahmad', 'male', '000000'], '3': ['qasim', 'male', '03240000'], '4': ['abdul', 'female', '0324555555']}\n",
            "Enter patient ID: 3\n",
            "{'2': ['ahmad', 'male', '000000'], '4': ['abdul', 'female', '0324555555']}\n"
          ]
        }
      ]
    }
  ]
}