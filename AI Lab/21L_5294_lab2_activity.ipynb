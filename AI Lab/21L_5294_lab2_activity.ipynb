{
  "nbformat": 4,
  "nbformat_minor": 0,
  "metadata": {
    "colab": {
      "provenance": []
    },
    "kernelspec": {
      "name": "python3",
      "display_name": "Python 3"
    },
    "language_info": {
      "name": "python"
    }
  },
  "cells": [
    {
      "cell_type": "markdown",
      "source": [
        "Finding the number of islands using an additional Matrix"
      ],
      "metadata": {
        "id": "LTUJdKagqP8v"
      }
    },
    {
      "cell_type": "code",
      "execution_count": 3,
      "metadata": {
        "colab": {
          "base_uri": "https://localhost:8080/"
        },
        "id": "JlEpNUcCqFEI",
        "outputId": "4149d1e9-be08-4df8-824d-d077a73b8247"
      },
      "outputs": [
        {
          "output_type": "stream",
          "name": "stdout",
          "text": [
            "Number of islands is:\n",
            "5\n"
          ]
        }
      ],
      "source": [
        "class Graph:\n",
        "  def __init__(self, row, col, g):\n",
        "    self.ROW = row\n",
        "    self.COL = col\n",
        "    self.graph = g\n",
        "\n",
        "  def isSafe(self, i, j, visited):\n",
        "\n",
        "    return (i >= 0 and i < self.ROW and j >= 0 and j < self.COL and not visited[i][j] and self.graph[i][j])\n",
        "\n",
        "  def DFS(self,i,j,visited):\n",
        "\n",
        "    rowNbr = [-1, -1, -1, 0, 0, 1, 1, 1]\n",
        "    colNbr = [-1, 0, 1, -1, 1, -1, 0, 1]\n",
        "    visited[i][j] = True\n",
        "\n",
        "    for k in range(8):\n",
        "      if self.isSafe(i + rowNbr[k], j + colNbr[k], visited):\n",
        "        self.DFS(i + rowNbr[k], j + colNbr[k], visited)\n",
        "\n",
        "  def countIslands(self):\n",
        "    visited = [[False for j in range(self.COL)]for i in range(self.ROW)]\n",
        "\n",
        "    count=0\n",
        "    for i in range(self.ROW):\n",
        "      for j in range(self.COL):\n",
        "        if visited[i][j] == False and self.graph[i][j] == 1:\n",
        "          self.DFS(i,j,visited)\n",
        "          count+=1\n",
        "    return count\n",
        "\n",
        "graph = [[1,1,0,0,0],\n",
        "         [0, 1, 0, 0, 1],\n",
        "         [1, 0, 0, 1, 1],\n",
        "         [0, 0, 0, 0, 0],\n",
        "         [1, 0, 1, 0, 1]]\n",
        "\n",
        "row = len(graph)\n",
        "col = len(graph[0])\n",
        "g = Graph(row, col, graph)\n",
        "print(\"Number of islands is:\")\n",
        "print(g.countIslands())"
      ]
    },
    {
      "cell_type": "markdown",
      "source": [
        "Finding the number of islands using DFS"
      ],
      "metadata": {
        "id": "AWMPM9HrwZ5L"
      }
    },
    {
      "cell_type": "code",
      "source": [
        "class Graph:\n",
        "  def __init__(self, row, col, graph):\n",
        "    self.ROW = row\n",
        "    self.COL = col\n",
        "    self.graph = graph\n",
        "\n",
        "\n",
        "  def DFS(self, i, j):\n",
        "    if i < 0 or i >= len(self.graph) or j < 0 or j >= len(self.graph[0]) or self.graph[i][j] != 1:\n",
        "      return\n",
        "\n",
        "    self.graph[i][j] = -1\n",
        "\n",
        "    self.DFS(i - 1, j - 1)\n",
        "    self.DFS(i - 1, j)\n",
        "    self.DFS(i - 1, j + 1)\n",
        "    self.DFS(i, j - 1)\n",
        "    self.DFS(i, j + 1)\n",
        "    self.DFS(i + 1, j - 1)\n",
        "    self.DFS(i + 1, j)\n",
        "    self.DFS(i + 1, j + 1)\n",
        "\n",
        "  def countIslands(self):\n",
        "    count = 0\n",
        "    for i in range(self.ROW):\n",
        "      for j in range(self.COL):\n",
        "        if self.graph[i][j] == 1:\n",
        "          self.DFS(i, j)\n",
        "          count += 1\n",
        "    return count\n",
        "\n",
        "graph = [\n",
        "[1, 1, 0, 0, 0],\n",
        "[0, 1, 0, 0, 1],\n",
        "[1, 0, 0, 1, 1],\n",
        "[0, 0, 0, 0, 0],\n",
        "[1, 0, 1, 0, 1]\n",
        "]\n",
        "\n",
        "row = len(graph)\n",
        "col = len(graph[0])\n",
        "g = Graph(row, col, graph)\n",
        "print(\"Number of islands is:\", g.countIslands())"
      ],
      "metadata": {
        "colab": {
          "base_uri": "https://localhost:8080/"
        },
        "id": "fxtY7VoCwd7G",
        "outputId": "2179cdff-0c8c-496b-efd4-1133d7428cd3"
      },
      "execution_count": 4,
      "outputs": [
        {
          "output_type": "stream",
          "name": "stdout",
          "text": [
            "Number of islands is: 5\n"
          ]
        }
      ]
    },
    {
      "cell_type": "markdown",
      "source": [
        "Finding the number of islands using BFS"
      ],
      "metadata": {
        "id": "_ayUi_Vq1lVD"
      }
    },
    {
      "cell_type": "code",
      "source": [
        "from collections import deque\n",
        "\n",
        "def isSafe(mat, i, j, vis):\n",
        "  return ((i >= 0) and (i < 5) and (j >= 0) and (j < 5) and (mat[i][j] and (not vis[i][j])))\n",
        "\n",
        "def BFS(mat, vis, si, sj):\n",
        "\n",
        "  row = [-1, -1, -1, 0, 0, 1, 1, 1]\n",
        "  col = [-1, 0, 1, -1, 1, -1, 0, 1]\n",
        "\n",
        "  q = deque()\n",
        "  q.append([si, sj])\n",
        "  vis[si][sj] = True\n",
        "\n",
        "  while (len(q) > 0):\n",
        "    temp = q.popleft()\n",
        "    i = temp[0]\n",
        "    j = temp[1]\n",
        "\n",
        "    for k in range(8):\n",
        "      if (isSafe(mat, i + row[k], j + col[k], vis)):\n",
        "        vis[i + row[k]][j + col[k]] = True\n",
        "        q.append([i + row[k], j + col[k]])\n",
        "\n",
        "def countIslands(mat):\n",
        "\n",
        "  vis = [[False for i in range(5)]for i in range(5)]\n",
        "\n",
        "  res = 0\n",
        "  for i in range(5):\n",
        "    for j in range(5):\n",
        "      if (mat[i][j] and not vis[i][j]):\n",
        "        BFS(mat, vis, i, j)\n",
        "        res += 1\n",
        "\n",
        "  return res\n",
        "\n",
        "if __name__ == '__main__':\n",
        "  mat = [ [ 1, 1, 0, 0, 0 ],\n",
        "  [ 0, 1, 0, 0, 1 ],\n",
        "  [ 1, 0, 0, 1, 1 ],\n",
        "  [ 0, 0, 0, 0, 0 ],\n",
        "  [ 1, 0, 1, 0, 1 ]]\n",
        "\n",
        "  print (\"Number of islands is:\",countIslands(mat))\n",
        "\n"
      ],
      "metadata": {
        "colab": {
          "base_uri": "https://localhost:8080/"
        },
        "id": "7SjSgjMX1xQE",
        "outputId": "400f9f0d-28d6-45bd-f8bc-e54259acc22d"
      },
      "execution_count": 5,
      "outputs": [
        {
          "output_type": "stream",
          "name": "stdout",
          "text": [
            "Number of islands is: 5\n"
          ]
        }
      ]
    }
  ]
}